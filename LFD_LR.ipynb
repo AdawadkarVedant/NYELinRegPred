{
 "cells": [
  {
   "cell_type": "code",
   "execution_count": 1,
   "id": "85cb18a7-013e-4dcf-83bb-5a11ebf044e2",
   "metadata": {
    "tags": []
   },
   "outputs": [],
   "source": [
    "import pandas as pd\n",
    "import seaborn as sns\n",
    "from sklearn.model_selection import train_test_split\n",
    "from sklearn.linear_model import LinearRegression\n",
    "from sklearn import metrics\n",
    "from sklearn.feature_selection import RFE\n",
    "import matplotlib.pyplot as plt"
   ]
  },
  {
   "cell_type": "code",
   "execution_count": 2,
   "id": "81f10319-b828-404e-8049-fdc9f2ac4e60",
   "metadata": {
    "tags": []
   },
   "outputs": [],
   "source": [
    "def read_csv_files(file_name):\n",
    "    dir_name = 'Assets//'\n",
    "    return pd.read_csv(dir_name + file_name)"
   ]
  },
  {
   "cell_type": "code",
   "execution_count": 3,
   "id": "c1801bd8-539e-43ad-b2e9-c456104c68db",
   "metadata": {
    "tags": []
   },
   "outputs": [],
   "source": [
    "pd.set_option('display.max_columns', None)"
   ]
  },
  {
   "cell_type": "code",
   "execution_count": 4,
   "id": "893bae10-6805-4b6b-ba9f-db229c64ba47",
   "metadata": {
    "tags": []
   },
   "outputs": [],
   "source": [
    "# Read CSV files and create a dataframe\n",
    "prices_df = read_csv_files('prices-split-adjusted.csv')\n",
    "securities_df = read_csv_files('securities.csv')\n",
    "fundamentals_df = read_csv_files('fundamentals.csv')"
   ]
  },
  {
   "cell_type": "code",
   "execution_count": 5,
   "id": "b1d0b153-a2ef-4fb1-bf00-d60ed672661a",
   "metadata": {
    "tags": []
   },
   "outputs": [],
   "source": [
    "# Rename the column in securities_df and fundamentals_df so that symbol columns match for merging\n",
    "securities_df = securities_df.rename(columns={'Ticker symbol': 'symbol'})\n",
    "fundamentals_df = fundamentals_df.rename(columns={'Ticker Symbol': 'symbol'})"
   ]
  },
  {
   "cell_type": "code",
   "execution_count": 6,
   "id": "c2f9ef7c-7964-4f0c-a24d-e4f0d3fd0c92",
   "metadata": {
    "tags": []
   },
   "outputs": [],
   "source": [
    "# Merge the two dataframes so securities information and fundamentals information is available in prices df\n",
    "securities_prices_df = pd.merge(prices_df, securities_df, on='symbol', how='left')\n",
    "stock_exchange_df = pd.merge(securities_prices_df, fundamentals_df, on='symbol', how='left')"
   ]
  },
  {
   "cell_type": "code",
   "execution_count": 7,
   "id": "4a819772-2492-4c18-9ca1-21a738b41b7b",
   "metadata": {
    "tags": []
   },
   "outputs": [],
   "source": [
    "filtered_se_df = stock_exchange_df[\n",
    "    ['date', 'symbol', 'open', 'close', 'high', 'low', 'volume', 'Security', 'GICS Sector', 'GICS Sub Industry',\n",
    "     'Date first added', 'Period Ending', 'After Tax ROE', 'Gross Profit', 'Gross Margin', 'Profit Margin',\n",
    "     'Total Revenue', 'For Year', 'Earnings Per Share']]"
   ]
  },
  {
   "cell_type": "code",
   "execution_count": 8,
   "id": "6e93a8e0-74c7-4f3b-9e84-47fa8a9037c4",
   "metadata": {
    "tags": []
   },
   "outputs": [
    {
     "name": "stderr",
     "output_type": "stream",
     "text": [
      "C:\\Users\\va296\\AppData\\Local\\Temp\\ipykernel_14392\\2520742590.py:3: SettingWithCopyWarning: \n",
      "A value is trying to be set on a copy of a slice from a DataFrame.\n",
      "Try using .loc[row_indexer,col_indexer] = value instead\n",
      "\n",
      "See the caveats in the documentation: https://pandas.pydata.org/pandas-docs/stable/user_guide/indexing.html#returning-a-view-versus-a-copy\n",
      "  filtered_se_df['date'] = pd.to_datetime(filtered_se_df['date'])\n",
      "C:\\Users\\va296\\AppData\\Local\\Temp\\ipykernel_14392\\2520742590.py:4: SettingWithCopyWarning: \n",
      "A value is trying to be set on a copy of a slice from a DataFrame.\n",
      "Try using .loc[row_indexer,col_indexer] = value instead\n",
      "\n",
      "See the caveats in the documentation: https://pandas.pydata.org/pandas-docs/stable/user_guide/indexing.html#returning-a-view-versus-a-copy\n",
      "  filtered_se_df['Date first added'] = pd.to_datetime(filtered_se_df['Date first added'])\n",
      "C:\\Users\\va296\\AppData\\Local\\Temp\\ipykernel_14392\\2520742590.py:5: SettingWithCopyWarning: \n",
      "A value is trying to be set on a copy of a slice from a DataFrame.\n",
      "Try using .loc[row_indexer,col_indexer] = value instead\n",
      "\n",
      "See the caveats in the documentation: https://pandas.pydata.org/pandas-docs/stable/user_guide/indexing.html#returning-a-view-versus-a-copy\n",
      "  filtered_se_df['Period Ending'] = pd.to_datetime(filtered_se_df['Period Ending'])\n"
     ]
    }
   ],
   "source": [
    "# Data Preprocessing\n",
    "# Convert date column to datetime column\n",
    "filtered_se_df['date'] = pd.to_datetime(filtered_se_df['date'])\n",
    "filtered_se_df['Date first added'] = pd.to_datetime(filtered_se_df['Date first added'])\n",
    "filtered_se_df['Period Ending'] = pd.to_datetime(filtered_se_df['Period Ending'])"
   ]
  },
  {
   "cell_type": "code",
   "execution_count": 9,
   "id": "a56d22bf-ce19-48e6-8837-99dd4240d35e",
   "metadata": {
    "tags": []
   },
   "outputs": [],
   "source": [
    "# Identify duplicate values if any\n",
    "has_duplicate_rows = filtered_se_df.duplicated().any()"
   ]
  },
  {
   "cell_type": "code",
   "execution_count": 10,
   "id": "55dd82fb-b793-466a-9064-fc2c9469d08d",
   "metadata": {
    "tags": []
   },
   "outputs": [],
   "source": [
    "# Identify Null or NAN values if any and drop those rows\n",
    "has_null_values = filtered_se_df.isnull().values.any()\n",
    "null_column_list = filtered_se_df.columns[filtered_se_df.isnull().any()].tolist()\n",
    "filtered_se_df = filtered_se_df.sort_values(by=['symbol', 'date'])\n",
    "filtered_se_df['Date first added'] = filtered_se_df.groupby('symbol')['date'].transform('min')\n",
    "filtered_se_df['Period Ending'] = filtered_se_df.groupby('symbol')['date'].transform('max')\n",
    "filtered_se_df['For Year'] = filtered_se_df.groupby('symbol')['Period Ending'].transform(lambda row: row.dt.year)"
   ]
  },
  {
   "cell_type": "code",
   "execution_count": 11,
   "id": "5a4c69fd-db64-4dbb-8e70-661e4885c792",
   "metadata": {
    "tags": []
   },
   "outputs": [],
   "source": [
    "filtered_se_df_cleaned = filtered_se_df.dropna(\n",
    "    subset=['After Tax ROE', 'Gross Profit', 'Gross Margin', 'Profit Margin', 'Total Revenue', 'Earnings Per Share'],\n",
    "    how='all')"
   ]
  },
  {
   "cell_type": "code",
   "execution_count": 12,
   "id": "0f05e335-4b6d-4864-b7e9-ab00ccd44352",
   "metadata": {
    "tags": []
   },
   "outputs": [],
   "source": [
    "grouped_se_df = filtered_se_df_cleaned.groupby(['GICS Sector', 'GICS Sub Industry'])\n",
    "mean_values = grouped_se_df['Earnings Per Share'].mean()\n",
    "filtered_se_df_cleaned = filtered_se_df_cleaned.merge(mean_values, on=['GICS Sector', 'GICS Sub Industry'],\n",
    "                                                      suffixes=('', '_mean'))\n",
    "filtered_se_df_cleaned['Earnings Per Share'].fillna(filtered_se_df_cleaned['Earnings Per Share_mean'], inplace=True)\n",
    "filtered_se_df_cleaned.drop(columns=['Earnings Per Share_mean'], inplace=True)"
   ]
  },
  {
   "cell_type": "code",
   "execution_count": 13,
   "id": "53f23e6b-731f-48ef-8d77-ba7e412bf010",
   "metadata": {
    "tags": []
   },
   "outputs": [],
   "source": [
    "new_grouped_se_df = filtered_se_df_cleaned.groupby(['GICS Sector'])\n",
    "mean_values = new_grouped_se_df['Earnings Per Share'].mean()\n",
    "filtered_se_df_cleaned = filtered_se_df_cleaned.merge(mean_values, on=['GICS Sector'], suffixes=('', '_mean'))\n",
    "filtered_se_df_cleaned['Earnings Per Share'].fillna(filtered_se_df_cleaned['Earnings Per Share_mean'], inplace=True)\n",
    "filtered_se_df_cleaned.drop(columns=['Earnings Per Share_mean'], inplace=True)"
   ]
  },
  {
   "cell_type": "code",
   "execution_count": 14,
   "id": "03d5094e-91ac-485e-9705-3183268262c8",
   "metadata": {
    "tags": []
   },
   "outputs": [],
   "source": [
    "# Start Linear Regression\n",
    "# Decide which sectors we want to study\n",
    "symbols = ['MSFT', 'ATVI', 'EA']\n",
    "\n",
    "# Filter DataFrame by sectors\n",
    "available_features = ['open', 'low', 'high', 'volume', 'After Tax ROE', 'Gross Profit', 'Gross Margin', 'Profit Margin',\n",
    "                      'Total Revenue', 'Earnings Per Share']\n",
    "target_feature = ['close']"
   ]
  },
  {
   "cell_type": "code",
   "execution_count": 19,
   "id": "962e05ea-40bb-49be-81ca-8d54bfabc164",
   "metadata": {
    "tags": []
   },
   "outputs": [
    {
     "name": "stderr",
     "output_type": "stream",
     "text": [
      "C:\\Users\\va296\\AppData\\Local\\Temp\\ipykernel_14392\\208074053.py:3: SettingWithCopyWarning: \n",
      "A value is trying to be set on a copy of a slice from a DataFrame\n",
      "\n",
      "See the caveats in the documentation: https://pandas.pydata.org/pandas-docs/stable/user_guide/indexing.html#returning-a-view-versus-a-copy\n",
      "  security_wise_df.sort_values(by='date', ascending=True, inplace=True)\n"
     ]
    },
    {
     "name": "stdout",
     "output_type": "stream",
     "text": [
      "\n",
      "For MSFT security: \n",
      "Slope: [[-0.51463404  0.74889614  0.76593288]]\n",
      "Intercept: [0.00376568]\n",
      "Mean Absolute Error For Test Set -  0.14336537782177763\n",
      "Mean Absolute Error For Training Set -  0.146290911472807\n",
      "Root Mean Squared Error For Test Set -  0.03797853453419531\n",
      "Root Mean Squared Error For Training Set -  0.039553496879289704\n",
      "R2_train: 0.9996630757565559\n",
      "R2_test: 0.9996708709299624\n"
     ]
    },
    {
     "name": "stderr",
     "output_type": "stream",
     "text": [
      "No artists with labels found to put in legend.  Note that artists whose label start with an underscore are ignored when legend() is called with no argument.\n",
      "No artists with labels found to put in legend.  Note that artists whose label start with an underscore are ignored when legend() is called with no argument.\n",
      "No artists with labels found to put in legend.  Note that artists whose label start with an underscore are ignored when legend() is called with no argument.\n",
      "C:\\Users\\va296\\AppData\\Local\\Temp\\ipykernel_14392\\208074053.py:3: SettingWithCopyWarning: \n",
      "A value is trying to be set on a copy of a slice from a DataFrame\n",
      "\n",
      "See the caveats in the documentation: https://pandas.pydata.org/pandas-docs/stable/user_guide/indexing.html#returning-a-view-versus-a-copy\n",
      "  security_wise_df.sort_values(by='date', ascending=True, inplace=True)\n"
     ]
    },
    {
     "name": "stdout",
     "output_type": "stream",
     "text": [
      "\n",
      "For ATVI security: \n",
      "Slope: [[-0.5309548   0.74645429  0.78447829]]\n",
      "Intercept: [0.00060721]\n",
      "Mean Absolute Error For Test Set -  0.09794156032748072\n",
      "Mean Absolute Error For Training Set -  0.09873167321006969\n",
      "Root Mean Squared Error For Test Set -  0.02026518349033213\n",
      "Root Mean Squared Error For Training Set -  0.020384108168985622\n",
      "R2_train: 0.9997876155268923\n",
      "R2_test: 0.999783422155194\n"
     ]
    },
    {
     "name": "stderr",
     "output_type": "stream",
     "text": [
      "No artists with labels found to put in legend.  Note that artists whose label start with an underscore are ignored when legend() is called with no argument.\n",
      "No artists with labels found to put in legend.  Note that artists whose label start with an underscore are ignored when legend() is called with no argument.\n",
      "No artists with labels found to put in legend.  Note that artists whose label start with an underscore are ignored when legend() is called with no argument.\n",
      "C:\\Users\\va296\\AppData\\Local\\Temp\\ipykernel_14392\\208074053.py:3: SettingWithCopyWarning: \n",
      "A value is trying to be set on a copy of a slice from a DataFrame\n",
      "\n",
      "See the caveats in the documentation: https://pandas.pydata.org/pandas-docs/stable/user_guide/indexing.html#returning-a-view-versus-a-copy\n",
      "  security_wise_df.sort_values(by='date', ascending=True, inplace=True)\n"
     ]
    },
    {
     "name": "stdout",
     "output_type": "stream",
     "text": [
      "\n",
      "For EA security: \n",
      "Slope: [[-0.52998644  0.76837243  0.7619782 ]]\n",
      "Intercept: [-0.00043451]\n",
      "Mean Absolute Error For Test Set -  0.19986108059296037\n",
      "Mean Absolute Error For Training Set -  0.20133772000750239\n",
      "Root Mean Squared Error For Test Set -  0.08328448723668948\n",
      "Root Mean Squared Error For Training Set -  0.08608953479802811\n",
      "R2_train: 0.9998354702716562\n",
      "R2_test: 0.999838850851466\n"
     ]
    },
    {
     "name": "stderr",
     "output_type": "stream",
     "text": [
      "No artists with labels found to put in legend.  Note that artists whose label start with an underscore are ignored when legend() is called with no argument.\n",
      "No artists with labels found to put in legend.  Note that artists whose label start with an underscore are ignored when legend() is called with no argument.\n",
      "No artists with labels found to put in legend.  Note that artists whose label start with an underscore are ignored when legend() is called with no argument.\n"
     ]
    }
   ],
   "source": [
    "for symbol in symbols:\n",
    "    security_wise_df = filtered_se_df_cleaned[filtered_se_df_cleaned['symbol'].eq(symbol)]\n",
    "    security_wise_df.sort_values(by='date', ascending=True, inplace=True)\n",
    "    x = security_wise_df[available_features]\n",
    "    y = security_wise_df[target_feature]\n",
    "\n",
    "    # Split the data into train/test data\n",
    "    x_train, x_test, y_train, y_test = train_test_split(x, y, test_size=0.3, train_size=0.7)\n",
    "\n",
    "    # Create a model for regression model\n",
    "    LinReg = LinearRegression()\n",
    "\n",
    "    # Perform Recursive Feature Elimination on the available features\n",
    "    rfe = RFE(LinReg, n_features_to_select=3)\n",
    "    rfe.fit(x_train, y_train)\n",
    "\n",
    "    # Get selected features from RFE model\n",
    "    selected_features = x.columns[rfe.support_]\n",
    "\n",
    "    # Train new model with selected features\n",
    "    LinReg.fit(x_train[selected_features], y_train)\n",
    "\n",
    "    # For each selected security predict the target variable\n",
    "    train_predictions = LinReg.predict(x_train[selected_features])\n",
    "    test_predictions = LinReg.predict(x_test[selected_features])\n",
    "    test_mae = metrics.mean_absolute_error(y_test, test_predictions)\n",
    "    train_mae = metrics.mean_absolute_error(y_train, train_predictions)\n",
    "    test_rmse = metrics.mean_squared_error(y_test, test_predictions)\n",
    "    train_rmse = metrics.mean_squared_error(y_train, train_predictions)\n",
    "    R2_train = LinReg.score(x_train[selected_features], y_train)\n",
    "    R2_test = LinReg.score(x_test[selected_features], y_test)\n",
    "\n",
    "    print('')\n",
    "    print(f'For {symbol} security: ')\n",
    "    \n",
    "    print('Slope:', LinReg.coef_)\n",
    "    print('Intercept:', LinReg.intercept_)\n",
    "\n",
    "    # Evaluate performance using Mean Absolute Error and/or Root Mean Squared Error for each selected sector\n",
    "    print('Mean Absolute Error For Test Set - ', test_mae)\n",
    "    print('Mean Absolute Error For Training Set - ', train_mae)\n",
    "\n",
    "    print('Root Mean Squared Error For Test Set - ', test_rmse)\n",
    "    print('Root Mean Squared Error For Training Set - ', train_rmse)\n",
    "\n",
    "    print('R2_train:', R2_train)\n",
    "    print('R2_test:', R2_test)\n",
    "\n",
    "    prices_test = x_test.copy()\n",
    "    prices_test['Actual_Close'] = y_test\n",
    "    prices_test['Predicted_Close'] = test_predictions\n",
    "    prices_test['Actual_Predicted_Diff'] = prices_test['Predicted_Close'] - prices_test['Actual_Close'].shift(1)\n",
    "    prices_test.at[0, 'Actual_Predicted_Diff'] = None\n",
    "\n",
    "    # Plot using scatterplot with regression line\n",
    "    plt.figure(figsize=(10, 6))\n",
    "    sns.scatterplot(data=prices_test, x='Actual_Close', y='Actual_Predicted_Diff')\n",
    "    sns.regplot(data=prices_test, x='Actual_Close', y='Actual_Predicted_Diff', scatter=False, color='red',\n",
    "                line_kws={'label': 'Regression Line'})\n",
    "    plt.title(f'Linear Regression Scatter Plot Showing Actual Close And Difference Between Closing Value Of Next Day and Predicted Close For {symbol} Security')\n",
    "    plt.xlabel('Actual Close Price ($)')\n",
    "    plt.ylabel('Actual Predicted Difference ')\n",
    "    plt.grid()\n",
    "    plt.legend(labels=['Actual Close Values', 'Regression Line'])\n",
    "    plt.savefig(f'Linear Regression Scatter Plot Showing Actual Close And Difference For {symbol} Security.jpeg', bbox_inches='tight')\n",
    "    plt.clf()\n",
    "    plt.close()\n",
    "    \n",
    "    # Plot using scatterplot with regression line\n",
    "    plt.figure(figsize=(10, 6))\n",
    "    sns.scatterplot(data=prices_test, x='Actual_Close', y='Predicted_Close')\n",
    "    sns.regplot(data=prices_test, x='Actual_Close', y='Predicted_Close', scatter=False, color='red',\n",
    "                line_kws={'label': 'Regression Line'})\n",
    "    plt.title(f'Actual vs Predicted Closing Values With Regression Line For {symbol} Security')\n",
    "    plt.xlabel('Actual Close Price ($)')\n",
    "    plt.ylabel('Predicted Close ')\n",
    "    plt.grid()\n",
    "    plt.legend(labels=['Actual Close Values', 'Regression Line'])\n",
    "    plt.savefig(f'Actual vs Predicted Closing Values With Regression Line For {symbol} Security.jpeg', bbox_inches='tight')\n",
    "    plt.clf()\n",
    "    plt.close()\n",
    "\n",
    "    # Create a bar plot for MAE\n",
    "    plt.figure(figsize=(10, 6))\n",
    "    sns.barplot(x=['Train', 'Test'], y=[train_mae, test_mae])\n",
    "    plt.title(f'Mean Absolute Error Comparison between Train and Test for {symbol} Security')\n",
    "    plt.ylabel('Mean Absolute Error')\n",
    "    plt.grid()\n",
    "    plt.legend()\n",
    "    plt.savefig(f'Mean Absolute Error Bar Plot for {symbol} security.jpeg', bbox_inches='tight')\n",
    "    plt.clf()\n",
    "    plt.close()\n",
    "\n",
    "    # Create a bar plot for MAE\n",
    "    plt.figure(figsize=(10, 6))\n",
    "    sns.barplot(x=['Train', 'Test'], y=[train_rmse, test_rmse])\n",
    "    plt.title(f'Root Mean Squared Error Comparison between Train and Test for {symbol} Security')\n",
    "    plt.ylabel('Root Mean Squared Error')\n",
    "    plt.grid()\n",
    "    plt.legend()\n",
    "    plt.savefig(f'Root Mean Squared Error Bar Plot for {symbol} security.jpeg', bbox_inches='tight')\n",
    "    plt.clf()\n",
    "    plt.close()\n",
    "\n",
    "    # Create a bar plot for R-squared\n",
    "    plt.figure(figsize=(10, 6))\n",
    "    sns.barplot(x=['Train', 'Test'], y=[R2_train, R2_test])\n",
    "    plt.title(f'R-squared Comparison between Train and Test for {symbol} Security')\n",
    "    plt.ylabel('R-squared')\n",
    "    plt.ylim(0, 1)  # Adjust the y-axis limits for R-squared\n",
    "    plt.grid()\n",
    "    plt.legend()\n",
    "    plt.savefig(f'R-squared Bar Plot for {symbol} security.jpeg', bbox_inches='tight')\n",
    "    plt.clf()\n",
    "    plt.close()"
   ]
  },
  {
   "cell_type": "code",
   "execution_count": null,
   "id": "01f4f47a-d1bb-4a38-a840-60bebd1a0c65",
   "metadata": {},
   "outputs": [],
   "source": []
  }
 ],
 "metadata": {
  "kernelspec": {
   "display_name": "Python 3 (ipykernel)",
   "language": "python",
   "name": "python3"
  },
  "language_info": {
   "codemirror_mode": {
    "name": "ipython",
    "version": 3
   },
   "file_extension": ".py",
   "mimetype": "text/x-python",
   "name": "python",
   "nbconvert_exporter": "python",
   "pygments_lexer": "ipython3",
   "version": "3.11.4"
  }
 },
 "nbformat": 4,
 "nbformat_minor": 5
}
